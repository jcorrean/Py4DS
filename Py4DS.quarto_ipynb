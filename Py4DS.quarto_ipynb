{
  "cells": [
    {
      "cell_type": "markdown",
      "metadata": {},
      "source": [
        "---\n",
        "title: \"Analítica de Proyectos\"\n",
        "format: html\n",
        "keywords:\n",
        "  - Oferta Comercial de Estudios Universitarios\n",
        "  - Red Bipartita\n",
        "  - Modelos de Grafo Exponencial Aleatorio\n",
        "abstract: |\n",
        "  Aunque Microsoft Excel y Microsoft Project suelen ser las herramientas preferidas para la gestión y control de proyectos, sus limitaciones son evidentes cuando se necesita analizar datos no estructurados (e.g., colecciones de textos, fotos, video, o audios) que resultan fundamentales para manejar la información relevante de un proyecto de gran complejidad que requiera el uso de herramientas de minería de datos, de big data, o de inteligencia artificial. Este tutorial tiene como objetivo brindar un panorama práctico de cómo se integra Python y R a la gestión y control de proyectos.\n",
        "---\n",
        "\n",
        "\n",
        "\n",
        "\n",
        "# ¿Por qué Python y R para la gestión de proyectos?\n",
        "\n",
        "Hay varias razones que nos obligan a considerar otras opciones más allá de Excel y de Microsoft Project que suelen ser las herramientas más populares para la gestión de proyectos.\n",
        "\n",
        "1.  Excel es limitado a la hora abrir archivos con datos que están en el orden de los millones de filas o columnas.\n",
        "2.  Microsoft Project es un software licenciado (no libre) orientado al control de proyectos y no nos permite saber los pequeños cambios que pueden ocurrir en el transcurso de cualquier proyecto.\n",
        "3.  Ni Excel ni Project son útiles para analizar \"datos no estructurados\" tales como colecciones de documentos, fotos, videos, o audios. En cambio los datos no estructurados son analizables con Python y R de una forma más ágil.\n",
        "4.  El análisis de datos no estructurados es la base fundamental de herramientas como el aprendizaje automático (conocido en inglés como Machine Learning). Veamos algunas funcionalidades básicas en las llamadas ciencias de datos para entender cómo funciona Python. Una cruda realidad es que las personas encargadas de recolectar datos no son especialistas en estadística y por ello no suelen guardar los datos de una manera que sean directamente usables para fines analíticos. Parte de lo que veremos en las próximas subsecciones está tomado del libro de texto de Hathaway y Larson [-@Hathaway2021] quienes se inspiraron en la \"biblia\" de la ciencia de datos escrita por Wickham y Grolemund [-@Wickham2017].\n",
        "\n",
        "## Organización de datos con Pandas\n",
        "\n",
        "Pandas es una librería para Python que está diseñada para realizar tareas relacionadas con la lectura, edición, y manipulación de datos estructurados.\n",
        "\n",
        "Las siguientes seis tablas contienen exactamente la misma información pero dicha info está dispuesta de manera diferente.\n"
      ],
      "id": "d7071afc"
    },
    {
      "cell_type": "code",
      "metadata": {},
      "source": [
        "import pandas as pd\n",
        "base_url = \"https://github.com/byuidatascience/data4python4ds/raw/master/data-raw/\"\n",
        "table1 = pd.read_csv(\"{}table1/table1.csv\".format(base_url))\n",
        "table2 = pd.read_csv(\"{}table2/table2.csv\".format(base_url))\n",
        "table3 = pd.read_csv(\"{}table3/table3.csv\".format(base_url))\n",
        "table4a = pd.read_csv(\"{}table4a/table4a.csv\".format(base_url))\n",
        "table4b = pd.read_csv(\"{}table4b/table4b.csv\".format(base_url))\n",
        "table5 = pd.read_csv(\"{}table5/table5.csv\".format(base_url), dtype = 'object')"
      ],
      "id": "d410430c",
      "execution_count": null,
      "outputs": []
    },
    {
      "cell_type": "markdown",
      "metadata": {},
      "source": [
        "La Tabla 1 (`table1`) viene así\n"
      ],
      "id": "16eb8136"
    },
    {
      "cell_type": "code",
      "metadata": {},
      "source": [
        "table1"
      ],
      "id": "910ebb03",
      "execution_count": null,
      "outputs": []
    }
  ],
  "metadata": {
    "kernelspec": {
      "display_name": "Python 3",
      "language": "python",
      "name": "python3"
    }
  },
  "nbformat": 4,
  "nbformat_minor": 5
}